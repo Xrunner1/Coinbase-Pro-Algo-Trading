{
 "cells": [
  {
   "cell_type": "markdown",
   "metadata": {},
   "source": [
    "# Coinbase Pro API Test\n",
    "\n",
    "The sandbox version of the coinbase API is at:\n",
    "\n",
    "   https://public.sandbox.pro.coinbase.com\n",
    "    \n",
    "Cbpro Python library repository:\n",
    "\n",
    "   https://github.com/danpaquin/coinbasepro-python\n",
    "    \n",
    "API url (sandbox):\n",
    "\n",
    "   https://api-public.sandbox.pro.coinbase.com"
   ]
  },
  {
   "cell_type": "code",
   "execution_count": 15,
   "metadata": {},
   "outputs": [],
   "source": [
    "%config Completer.use_jedi = False       #without this line, autocomplete seemed to not be working, so I am putting it here. source: https://stackoverflow.com/questions/40536560/ipython-and-jupyter-autocomplete-not-working"
   ]
  },
  {
   "cell_type": "code",
   "execution_count": 16,
   "metadata": {},
   "outputs": [],
   "source": [
    "import pandas as pd\n",
    "import cbpro\n",
    "from auth_credentials import (api_secret,\n",
    "                              api_key, \n",
    "                              api_pass)"
   ]
  },
  {
   "cell_type": "markdown",
   "metadata": {},
   "source": [
    "## WebsocketClient Class\n",
    "\n",
    "Here we inherit from the WebsocketClient class and overload methods `on_open()`, `on_message()`, and `on_close()`"
   ]
  },
  {
   "cell_type": "code",
   "execution_count": 17,
   "metadata": {},
   "outputs": [],
   "source": [
    "class TextWebsocketClient(cbpro.WebsocketClient):\n",
    "    def on_open(self):\n",
    "        self.url           = 'wss://ws-feed-public.sandbox.pro.coinbase.com'\n",
    "        self.message_count = 0\n",
    "    \n",
    "    def on_message(self,msg):\n",
    "        self.message_count += 1\n",
    "        msg_type = msg.get('type',None)\n",
    "        if msg_type == 'ticker':\n",
    "            time_val   = msg.get('time',('-'*27))\n",
    "            price_val  = msg.get('price',None)\n",
    "            if price_val is not None:\n",
    "                price_val = float(price_val)\n",
    "            product_id = msg.get('product_id',None)\n",
    "            \n",
    "            print(f\"{time_val:30} \\\n",
    "                {price_val:.3f} \\\n",
    "                {product_id}\\tchannel type:{msg_type}\")\n",
    "    \n",
    "    def on_close(self):\n",
    "        print(f\"<---Websocket connection closed--->\\n\\tTotal messages: {self.message_count}\")"
   ]
  },
  {
   "cell_type": "code",
   "execution_count": 13,
   "metadata": {},
   "outputs": [
    {
     "name": "stdout",
     "output_type": "stream",
     "text": [
      "2021-01-24T05:02:50.325720Z                    32766.430                 BTC-USD\tchannel type:ticker\n",
      "2021-01-24T05:02:55.317811Z                    32766.410                 BTC-USD\tchannel type:ticker\n",
      "2021-01-24T05:02:56.227170Z                    32766.420                 BTC-USD\tchannel type:ticker\n",
      "2021-01-24T05:02:56.551063Z                    32766.420                 BTC-USD\tchannel type:ticker\n",
      "2021-01-24T05:02:56.868469Z                    32766.420                 BTC-USD\tchannel type:ticker\n",
      "2021-01-24T05:02:57.193821Z                    32766.420                 BTC-USD\tchannel type:ticker\n",
      "2021-01-24T05:02:57.521818Z                    32766.420                 BTC-USD\tchannel type:ticker\n",
      "2021-01-24T05:02:59.353735Z                    32766.420                 BTC-USD\tchannel type:ticker\n",
      "2021-01-24T05:03:00.318903Z                    32766.420                 BTC-USD\tchannel type:ticker\n"
     ]
    }
   ],
   "source": [
    "stream = TextWebsocketClient(products=['BTC-USD'],channels=['ticker'])\n",
    "stream.start()"
   ]
  },
  {
   "cell_type": "code",
   "execution_count": 10,
   "metadata": {},
   "outputs": [
    {
     "name": "stdout",
     "output_type": "stream",
     "text": [
      "Now you see me\n",
      "2021-01-24T04:55:34.915892Z    32691.230 BTC-USD\tchannel type:ticker\n",
      "2021-01-24T04:55:35.733581Z    32691.230 BTC-USD\tchannel type:ticker\n",
      "2021-01-24T04:55:40.321576Z    32691.240 BTC-USD\tchannel type:ticker\n",
      "2021-01-24T04:55:44.549054Z    32707.520 BTC-USD\tchannel type:ticker\n",
      "2021-01-24T04:55:44.549054Z    32707.530 BTC-USD\tchannel type:ticker\n",
      "2021-01-24T04:55:45.317080Z    32707.510 BTC-USD\tchannel type:ticker\n",
      "2021-01-24T04:55:46.003897Z    32707.530 BTC-USD\tchannel type:ticker\n",
      "2021-01-24T04:55:46.328381Z    32707.530 BTC-USD\tchannel type:ticker\n",
      "2021-01-24T04:55:46.648948Z    32707.530 BTC-USD\tchannel type:ticker\n",
      "2021-01-24T04:55:46.985645Z    32707.530 BTC-USD\tchannel type:ticker\n",
      "2021-01-24T04:55:47.305601Z    32707.530 BTC-USD\tchannel type:ticker\n",
      "2021-01-24T04:55:50.332261Z    32707.530 BTC-USD\tchannel type:ticker\n",
      "2021-01-24T04:55:50.503458Z    32707.530 BTC-USD\tchannel type:ticker\n",
      "2021-01-24T04:55:55.324106Z    32707.520 BTC-USD\tchannel type:ticker\n",
      "2021-01-24T04:55:55.766929Z    32707.520 BTC-USD\tchannel type:ticker\n"
     ]
    }
   ],
   "source": [
    "print(\"Now you see me\")"
   ]
  },
  {
   "cell_type": "code",
   "execution_count": 14,
   "metadata": {},
   "outputs": [
    {
     "name": "stdout",
     "output_type": "stream",
     "text": [
      "2021-01-24T05:03:05.329153Z                    32766.410                 BTC-USD\tchannel type:ticker\n",
      "2021-01-24T05:03:06.191011Z                    32766.410                 BTC-USD\tchannel type:ticker\n",
      "<---Websocket connection closed--->\n",
      "\tTotal messages: 12\n"
     ]
    }
   ],
   "source": [
    "stream.close()"
   ]
  },
  {
   "cell_type": "markdown",
   "metadata": {},
   "source": [
    "## AuthenticatedClient Class\n",
    "\n",
    "\n",
    "An authenticated client allows us to access private account information and can be done with the class `AuthenticatedClient` to handle this type of connection."
   ]
  },
  {
   "cell_type": "code",
   "execution_count": 20,
   "metadata": {},
   "outputs": [],
   "source": [
    "url='https://api-public.sandbox.pro.coinbase.com'\n",
    "\n",
    "client = cbpro.AuthenticatedClient(\n",
    "    api_key,\n",
    "    api_secret,\n",
    "    api_pass,\n",
    "    api_url=url\n",
    ")"
   ]
  },
  {
   "cell_type": "markdown",
   "metadata": {},
   "source": [
    "## Placing a Market Order\n",
    "\n",
    "Here we see how to place market orders through cbpro with an authenticated client object."
   ]
  },
  {
   "cell_type": "code",
   "execution_count": null,
   "metadata": {
    "scrolled": true
   },
   "outputs": [],
   "source": [
    "client.place_market_order(product_id='BTC-USD',side='buy',size=1)"
   ]
  },
  {
   "cell_type": "markdown",
   "metadata": {},
   "source": [
    "## Check Account History\n",
    "\n",
    "First we need to know the id of the account we want to check. Therefore, we use `client.get_accounts()` to obtain the id of the target account and we then check its history with `client.get_account_history(<account id>)`."
   ]
  },
  {
   "cell_type": "code",
   "execution_count": 32,
   "metadata": {},
   "outputs": [],
   "source": [
    "accounts = client.get_accounts()"
   ]
  },
  {
   "cell_type": "code",
   "execution_count": 33,
   "metadata": {},
   "outputs": [],
   "source": [
    "for acc in accounts:\n",
    "    currency = acc.get('currency')\n",
    "    if currency=='BTC':\n",
    "        acc_id = acc.get('id')"
   ]
  },
  {
   "cell_type": "code",
   "execution_count": 34,
   "metadata": {},
   "outputs": [],
   "source": [
    "acc_history = client.get_account_history(acc_id)"
   ]
  },
  {
   "cell_type": "code",
   "execution_count": null,
   "metadata": {},
   "outputs": [],
   "source": [
    "import json\n",
    "\n",
    "for hist in acc_history:\n",
    "    print(json.dumps(hist,indent=1))"
   ]
  },
  {
   "cell_type": "code",
   "execution_count": null,
   "metadata": {},
   "outputs": [],
   "source": []
  }
 ],
 "metadata": {
  "kernelspec": {
   "display_name": "Python 3",
   "language": "python",
   "name": "python3"
  },
  "language_info": {
   "codemirror_mode": {
    "name": "ipython",
    "version": 3
   },
   "file_extension": ".py",
   "mimetype": "text/x-python",
   "name": "python",
   "nbconvert_exporter": "python",
   "pygments_lexer": "ipython3",
   "version": "3.9.1"
  }
 },
 "nbformat": 4,
 "nbformat_minor": 4
}
