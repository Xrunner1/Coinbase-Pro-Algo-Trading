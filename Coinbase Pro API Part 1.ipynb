{
 "cells": [
  {
   "cell_type": "markdown",
   "metadata": {},
   "source": [
    "# Coinbase Pro API Test\n",
    "\n",
    "The sandbox version of the coinbase Pro is at:\n",
    "\n",
    "   https://public.sandbox.pro.coinbase.com\n",
    "    \n",
    "Cbpro Python library repository:\n",
    "\n",
    "   https://github.com/danpaquin/coinbasepro-python\n",
    "    \n",
    "API url (sandbox):\n",
    "\n",
    "   https://api-public.sandbox.pro.coinbase.com\n",
    "   \n",
    "Websocket url (sandbox):\n",
    "   \n",
    "   [wss://ws-feed-public.sandbox.pro.coinbase.com](wss://ws-feed-public.sandbox.pro.coinbase.com)"
   ]
  },
  {
   "cell_type": "code",
   "execution_count": 6,
   "metadata": {},
   "outputs": [],
   "source": [
    "%config Completer.use_jedi = False       #without this line, autocomplete seemed to not be working, so I am putting it here. source: https://stackoverflow.com/questions/40536560/ipython-and-jupyter-autocomplete-not-working"
   ]
  },
  {
   "cell_type": "code",
   "execution_count": 7,
   "metadata": {},
   "outputs": [],
   "source": [
    "import cbpro\n",
    "from auth_credentials import (api_secret,\n",
    "                              api_key, \n",
    "                              api_pass)"
   ]
  },
  {
   "cell_type": "markdown",
   "metadata": {},
   "source": [
    "## WebsocketClient Class\n",
    "\n",
    "Here we inherit from the WebsocketClient class and overload methods `on_open()`, `on_message()`, and `on_close()`"
   ]
  },
  {
   "cell_type": "code",
   "execution_count": 8,
   "metadata": {},
   "outputs": [],
   "source": [
    "class TextWebsocketClient(cbpro.WebsocketClient):\n",
    "    def on_open(self):\n",
    "        self.url           = 'wss://ws-feed-public.sandbox.pro.coinbase.com'\n",
    "        self.message_count = 0\n",
    "    \n",
    "    def on_message(self,msg):\n",
    "        self.message_count += 1\n",
    "        msg_type = msg.get('type',None)\n",
    "        if msg_type == 'ticker':\n",
    "            time_val   = msg.get('time',('-'*27))\n",
    "            price_val  = msg.get('price',None)\n",
    "            if price_val is not None:\n",
    "                price_val = float(price_val)\n",
    "            product_id = msg.get('product_id',None)\n",
    "            \n",
    "            print(f\"{time_val:30} \\\n",
    "                {price_val:.3f} \\\n",
    "                {product_id}\\tchannel type:{msg_type}\")\n",
    "    \n",
    "    def on_close(self):\n",
    "        print(f\"<---Websocket connection closed--->\\n\\tTotal messages: {self.message_count}\")"
   ]
  },
  {
   "cell_type": "code",
   "execution_count": 9,
   "metadata": {},
   "outputs": [
    {
     "name": "stdout",
     "output_type": "stream",
     "text": [
      "2021-02-08T08:21:05.040511Z                    39201.920                 BTC-USD\tchannel type:ticker\n",
      "2021-02-08T08:21:06.394668Z                    39201.910                 BTC-USD\tchannel type:ticker\n",
      "2021-02-08T08:21:07.774882Z                    39201.920                 BTC-USD\tchannel type:ticker\n",
      "2021-02-08T08:21:08.353162Z                    39201.920                 BTC-USD\tchannel type:ticker\n",
      "2021-02-08T08:21:09.161940Z                    39201.920                 BTC-USD\tchannel type:ticker\n",
      "2021-02-08T08:21:10.264248Z                    39201.920                 BTC-USD\tchannel type:ticker\n",
      "2021-02-08T08:21:10.290122Z                    39201.920                 BTC-USD\tchannel type:ticker\n",
      "2021-02-08T08:21:11.082410Z                    39201.920                 BTC-USD\tchannel type:ticker\n",
      "2021-02-08T08:21:11.396322Z                    39201.920                 BTC-USD\tchannel type:ticker\n",
      "2021-02-08T08:21:11.627855Z                    39201.920                 BTC-USD\tchannel type:ticker\n",
      "2021-02-08T08:21:12.938728Z                    39201.910                 BTC-USD\tchannel type:ticker\n",
      "2021-02-08T08:21:14.085065Z                    39201.920                 BTC-USD\tchannel type:ticker\n",
      "2021-02-08T08:21:14.639280Z                    39201.920                 BTC-USD\tchannel type:ticker\n",
      "2021-02-08T08:21:15.196031Z                    39201.920                 BTC-USD\tchannel type:ticker\n",
      "2021-02-08T08:21:15.456262Z                    39201.920                 BTC-USD\tchannel type:ticker\n",
      "2021-02-08T08:21:15.735042Z                    39201.920                 BTC-USD\tchannel type:ticker\n",
      "2021-02-08T08:21:16.020329Z                    39201.920                 BTC-USD\tchannel type:ticker\n",
      "2021-02-08T08:21:16.405577Z                    39201.910                 BTC-USD\tchannel type:ticker\n"
     ]
    }
   ],
   "source": [
    "stream = TextWebsocketClient(products=['BTC-USD'],channels=['ticker'])\n",
    "stream.start()"
   ]
  },
  {
   "cell_type": "code",
   "execution_count": 10,
   "metadata": {},
   "outputs": [
    {
     "name": "stdout",
     "output_type": "stream",
     "text": [
      "2021-02-08T08:21:17.360564Z                    39201.920                 BTC-USD\tchannel type:ticker\n",
      "<---Websocket connection closed--->\n",
      "\tTotal messages: 20\n"
     ]
    }
   ],
   "source": [
    "stream.close()"
   ]
  },
  {
   "cell_type": "markdown",
   "metadata": {},
   "source": [
    "## AuthenticatedClient Class\n",
    "\n",
    "\n",
    "An authenticated client allows us to access private account information and can be done with the class `AuthenticatedClient` to handle this type of connection."
   ]
  },
  {
   "cell_type": "code",
   "execution_count": 20,
   "metadata": {},
   "outputs": [],
   "source": [
    "url='https://api-public.sandbox.pro.coinbase.com'\n",
    "\n",
    "client = cbpro.AuthenticatedClient(\n",
    "    api_key,\n",
    "    api_secret,\n",
    "    api_pass,\n",
    "    api_url=url\n",
    ")"
   ]
  },
  {
   "cell_type": "markdown",
   "metadata": {},
   "source": [
    "## Placing a Market Order\n",
    "\n",
    "Here we see how to place market orders through cbpro with an authenticated client object."
   ]
  },
  {
   "cell_type": "code",
   "execution_count": null,
   "metadata": {
    "scrolled": true
   },
   "outputs": [],
   "source": [
    "client.place_market_order(product_id='BTC-USD',side='buy',size=1)"
   ]
  },
  {
   "cell_type": "markdown",
   "metadata": {},
   "source": [
    "## Check Account History\n",
    "\n",
    "First we need to know the id of the account we want to check. Therefore, we use `client.get_accounts()` to obtain the id of the target account and we then check its history with `client.get_account_history(<account id>)`."
   ]
  },
  {
   "cell_type": "code",
   "execution_count": 32,
   "metadata": {},
   "outputs": [],
   "source": [
    "accounts = client.get_accounts()"
   ]
  },
  {
   "cell_type": "code",
   "execution_count": 33,
   "metadata": {},
   "outputs": [],
   "source": [
    "for acc in accounts:\n",
    "    currency = acc.get('currency')\n",
    "    if currency=='BTC':\n",
    "        acc_id = acc.get('id')"
   ]
  },
  {
   "cell_type": "code",
   "execution_count": 34,
   "metadata": {},
   "outputs": [],
   "source": [
    "acc_history = client.get_account_history(acc_id)"
   ]
  },
  {
   "cell_type": "code",
   "execution_count": null,
   "metadata": {},
   "outputs": [],
   "source": [
    "import json\n",
    "\n",
    "for hist in acc_history:\n",
    "    print(json.dumps(hist,indent=1))"
   ]
  },
  {
   "cell_type": "code",
   "execution_count": null,
   "metadata": {},
   "outputs": [],
   "source": []
  }
 ],
 "metadata": {
  "kernelspec": {
   "display_name": "Python 3",
   "language": "python",
   "name": "python3"
  },
  "language_info": {
   "codemirror_mode": {
    "name": "ipython",
    "version": 3
   },
   "file_extension": ".py",
   "mimetype": "text/x-python",
   "name": "python",
   "nbconvert_exporter": "python",
   "pygments_lexer": "ipython3",
   "version": "3.9.1"
  }
 },
 "nbformat": 4,
 "nbformat_minor": 4
}
