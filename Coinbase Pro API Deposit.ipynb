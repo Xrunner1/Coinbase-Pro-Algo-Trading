{
 "cells": [
  {
   "cell_type": "code",
   "execution_count": 1,
   "metadata": {},
   "outputs": [],
   "source": [
    "%config Completer.use_jedi = False       #without this line, autocomplete seemed to not be working, so I am putting it here. source: https://stackoverflow.com/questions/40536560/ipython-and-jupyter-autocomplete-not-working"
   ]
  },
  {
   "cell_type": "code",
   "execution_count": 2,
   "metadata": {},
   "outputs": [],
   "source": [
    "import cbpro\n",
    "import json\n",
    "from auth_credentials import (api_secret, \n",
    "                              api_key, \n",
    "                              api_pass)"
   ]
  },
  {
   "cell_type": "markdown",
   "metadata": {},
   "source": [
    "## Create AuthenticatedClient Instance"
   ]
  },
  {
   "cell_type": "code",
   "execution_count": 3,
   "metadata": {},
   "outputs": [],
   "source": [
    "url = 'https://api-public.sandbox.pro.coinbase.com'\n",
    "client = cbpro.AuthenticatedClient(\n",
    "    api_key,\n",
    "    api_secret,\n",
    "    api_pass, \n",
    "    api_url=url)"
   ]
  },
  {
   "cell_type": "markdown",
   "metadata": {},
   "source": [
    "## Initiate Deposit\n",
    "Right after opening the sandbox account of Coinbase Pro, the account will not have funds, so we need to deposit using the .deposit() method. However, before that, we should know what our payment methods are and get the id for the one we want to create."
   ]
  },
  {
   "cell_type": "code",
   "execution_count": 4,
   "metadata": {},
   "outputs": [],
   "source": [
    "payment_methods = client.get_payment_methods()"
   ]
  },
  {
   "cell_type": "code",
   "execution_count": 5,
   "metadata": {},
   "outputs": [
    {
     "name": "stdout",
     "output_type": "stream",
     "text": [
      "Currency is `USD`\n",
      "\n"
     ]
    }
   ],
   "source": [
    "for method in payment_methods:\n",
    "    currency  = method.get('currency',None)\n",
    "    if currency.upper() == 'USD':\n",
    "        method_id = method.get('id',None) \n",
    "    elif currency is None:\n",
    "        continue\n",
    "\n",
    "print(f\"Currency is `{currency}`\\n\")"
   ]
  },
  {
   "cell_type": "code",
   "execution_count": 6,
   "metadata": {},
   "outputs": [
    {
     "data": {
      "text/plain": [
       "{'id': 'd0e02373-5638-4779-b4f0-a7a7e534fb09',\n",
       " 'amount': '3550.00000000',\n",
       " 'currency': 'USD',\n",
       " 'payout_at': '2015-02-18T16:54:00-08:00'}"
      ]
     },
     "execution_count": 6,
     "metadata": {},
     "output_type": "execute_result"
    }
   ],
   "source": [
    "client.deposit(\n",
    "    amount=3550,\n",
    "    currency=currency,\n",
    "    payment_method_id=method_id\n",
    ")"
   ]
  },
  {
   "cell_type": "code",
   "execution_count": null,
   "metadata": {},
   "outputs": [],
   "source": []
  }
 ],
 "metadata": {
  "kernelspec": {
   "display_name": "Python 3",
   "language": "python",
   "name": "python3"
  },
  "language_info": {
   "codemirror_mode": {
    "name": "ipython",
    "version": 3
   },
   "file_extension": ".py",
   "mimetype": "text/x-python",
   "name": "python",
   "nbconvert_exporter": "python",
   "pygments_lexer": "ipython3",
   "version": "3.9.1"
  }
 },
 "nbformat": 4,
 "nbformat_minor": 4
}
